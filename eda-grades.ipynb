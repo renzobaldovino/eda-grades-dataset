{
 "cells": [
  {
   "cell_type": "code",
   "execution_count": 1,
   "id": "e2bbf8d3",
   "metadata": {},
   "outputs": [],
   "source": [
    "# Importing dependencies\n",
    "import pandas as pd\n",
    "import matplotlib.pyplot as plt\n",
    "import seaborn as sns"
   ]
  },
  {
   "cell_type": "code",
   "execution_count": 2,
   "id": "0a106034",
   "metadata": {
    "scrolled": true
   },
   "outputs": [
    {
     "data": {
      "text/html": [
       "<div>\n",
       "<style scoped>\n",
       "    .dataframe tbody tr th:only-of-type {\n",
       "        vertical-align: middle;\n",
       "    }\n",
       "\n",
       "    .dataframe tbody tr th {\n",
       "        vertical-align: top;\n",
       "    }\n",
       "\n",
       "    .dataframe thead th {\n",
       "        text-align: right;\n",
       "    }\n",
       "</style>\n",
       "<table border=\"1\" class=\"dataframe\">\n",
       "  <thead>\n",
       "    <tr style=\"text-align: right;\">\n",
       "      <th></th>\n",
       "      <th>Physics</th>\n",
       "      <th>Math</th>\n",
       "      <th>English</th>\n",
       "      <th>Literature</th>\n",
       "    </tr>\n",
       "  </thead>\n",
       "  <tbody>\n",
       "    <tr>\n",
       "      <th>0</th>\n",
       "      <td>80.0</td>\n",
       "      <td>83.0</td>\n",
       "      <td>90.0</td>\n",
       "      <td>91.0</td>\n",
       "    </tr>\n",
       "    <tr>\n",
       "      <th>1</th>\n",
       "      <td>83.0</td>\n",
       "      <td>85.0</td>\n",
       "      <td>89.0</td>\n",
       "      <td>88.0</td>\n",
       "    </tr>\n",
       "    <tr>\n",
       "      <th>2</th>\n",
       "      <td>84.0</td>\n",
       "      <td>87.0</td>\n",
       "      <td>84.0</td>\n",
       "      <td>85.0</td>\n",
       "    </tr>\n",
       "    <tr>\n",
       "      <th>3</th>\n",
       "      <td>80.0</td>\n",
       "      <td>82.0</td>\n",
       "      <td>91.0</td>\n",
       "      <td>89.0</td>\n",
       "    </tr>\n",
       "    <tr>\n",
       "      <th>4</th>\n",
       "      <td>85.0</td>\n",
       "      <td>88.0</td>\n",
       "      <td>87.0</td>\n",
       "      <td>85.0</td>\n",
       "    </tr>\n",
       "  </tbody>\n",
       "</table>\n",
       "</div>"
      ],
      "text/plain": [
       "   Physics  Math  English  Literature\n",
       "0     80.0  83.0     90.0        91.0\n",
       "1     83.0  85.0     89.0        88.0\n",
       "2     84.0  87.0     84.0        85.0\n",
       "3     80.0  82.0     91.0        89.0\n",
       "4     85.0  88.0     87.0        85.0"
      ]
     },
     "execution_count": 2,
     "metadata": {},
     "output_type": "execute_result"
    }
   ],
   "source": [
    "# Creating a Dataframe using the csv file\n",
    "df = pd.read_csv('grades.csv')\n",
    "df.head()"
   ]
  },
  {
   "cell_type": "code",
   "execution_count": 3,
   "id": "0fff8471",
   "metadata": {},
   "outputs": [
    {
     "data": {
      "text/html": [
       "<div>\n",
       "<style scoped>\n",
       "    .dataframe tbody tr th:only-of-type {\n",
       "        vertical-align: middle;\n",
       "    }\n",
       "\n",
       "    .dataframe tbody tr th {\n",
       "        vertical-align: top;\n",
       "    }\n",
       "\n",
       "    .dataframe thead th {\n",
       "        text-align: right;\n",
       "    }\n",
       "</style>\n",
       "<table border=\"1\" class=\"dataframe\">\n",
       "  <thead>\n",
       "    <tr style=\"text-align: right;\">\n",
       "      <th></th>\n",
       "      <th>Physics</th>\n",
       "      <th>Math</th>\n",
       "      <th>English</th>\n",
       "      <th>Literature</th>\n",
       "    </tr>\n",
       "  </thead>\n",
       "  <tbody>\n",
       "    <tr>\n",
       "      <th>7</th>\n",
       "      <td>NaN</td>\n",
       "      <td>87.0</td>\n",
       "      <td>88.0</td>\n",
       "      <td>NaN</td>\n",
       "    </tr>\n",
       "    <tr>\n",
       "      <th>18</th>\n",
       "      <td>87.0</td>\n",
       "      <td>89.0</td>\n",
       "      <td>NaN</td>\n",
       "      <td>NaN</td>\n",
       "    </tr>\n",
       "    <tr>\n",
       "      <th>19</th>\n",
       "      <td>83.0</td>\n",
       "      <td>84.0</td>\n",
       "      <td>NaN</td>\n",
       "      <td>88.0</td>\n",
       "    </tr>\n",
       "    <tr>\n",
       "      <th>20</th>\n",
       "      <td>82.0</td>\n",
       "      <td>NaN</td>\n",
       "      <td>87.0</td>\n",
       "      <td>89.0</td>\n",
       "    </tr>\n",
       "  </tbody>\n",
       "</table>\n",
       "</div>"
      ],
      "text/plain": [
       "    Physics  Math  English  Literature\n",
       "7       NaN  87.0     88.0         NaN\n",
       "18     87.0  89.0      NaN         NaN\n",
       "19     83.0  84.0      NaN        88.0\n",
       "20     82.0   NaN     87.0        89.0"
      ]
     },
     "execution_count": 3,
     "metadata": {},
     "output_type": "execute_result"
    }
   ],
   "source": [
    "# Handling Null Values\n",
    "\n",
    "# The file containing the data contains multiple null values or missing values, which can affect the algorithms \n",
    "# used to analyze the data and the quality of the results following analysis. In this case, the null values in \n",
    "# the data columns are first displayed to determine their quantity and randomness.\n",
    "\n",
    "df[(df[\"Physics\"].isnull()) | (df[\"Math\"].isnull()) | (df[\"English\"].isnull()) | (df[\"Literature\"].isnull())]"
   ]
  },
  {
   "cell_type": "code",
   "execution_count": 4,
   "id": "e147ebad",
   "metadata": {},
   "outputs": [
    {
     "data": {
      "text/plain": [
       "Physics       0\n",
       "Math          0\n",
       "English       0\n",
       "Literature    0\n",
       "dtype: int64"
      ]
     },
     "execution_count": 4,
     "metadata": {},
     "output_type": "execute_result"
    }
   ],
   "source": [
    "# According to the results, there are four records with null values in each column. Two of those records have two null \n",
    "# values, which impacts the data quality on these entries. Additionally, null values also appeared twice on some columns. \n",
    "# This results in discrepancies in the overall number of data for each column, making it difficult to construct \n",
    "# relationships between columns. Since the quantity of the records containing null values are low, and the appearance of \n",
    "# the missing values is random or not dependent on the other data, I opted to drop the records containing the null values.\n",
    "\n",
    "df_grades = df.dropna()\n",
    "df_grades.isnull().sum()"
   ]
  },
  {
   "cell_type": "code",
   "execution_count": 5,
   "id": "de909302",
   "metadata": {},
   "outputs": [
    {
     "data": {
      "text/plain": [
       "Physics       93.0\n",
       "Math          92.0\n",
       "English       93.0\n",
       "Literature    92.0\n",
       "dtype: float64"
      ]
     },
     "execution_count": 5,
     "metadata": {},
     "output_type": "execute_result"
    }
   ],
   "source": [
    "# 1. Which subject do students excel the most? Support your answer with analysis and explanation.\n",
    "\n",
    "# In the analysis below, we first looked at the highest grade received by a student per subject. From the given data, \n",
    "# the highest grade received by a student in Physics and English is 93, while the highest grade a student received in Math \n",
    "# and Literature is 92.\n",
    "\n",
    "df_grades.max()"
   ]
  },
  {
   "cell_type": "code",
   "execution_count": 6,
   "id": "844430fc",
   "metadata": {},
   "outputs": [
    {
     "data": {
      "text/plain": [
       "Physics       85.322581\n",
       "Math          86.064516\n",
       "English       85.612903\n",
       "Literature    85.774194\n",
       "dtype: float64"
      ]
     },
     "execution_count": 6,
     "metadata": {},
     "output_type": "execute_result"
    }
   ],
   "source": [
    "# Now, if we look at the average or mean grade per subject, Math has the highest average compared to the other subjects and \n",
    "# it also has the second lowest standard deviation. A low standard deviation means that a set of data is close to the mean \n",
    "# and has little variation while a high standard deviation means that there is a large variation between the set of data \n",
    "# and the mean. This implies that in the subject, Math, all the students obtained a grade that is close to 86.06.\n",
    "\n",
    "df_grades.mean()"
   ]
  },
  {
   "cell_type": "code",
   "execution_count": 7,
   "id": "6a970bd4",
   "metadata": {},
   "outputs": [
    {
     "data": {
      "text/plain": [
       "Physics       3.709331\n",
       "Math          3.549042\n",
       "English       3.844281\n",
       "Literature    3.441992\n",
       "dtype: float64"
      ]
     },
     "execution_count": 7,
     "metadata": {},
     "output_type": "execute_result"
    }
   ],
   "source": [
    "df_grades.std()\n",
    "\n",
    "# For this reason, despite not having the highest grade attained in Math, the students excelled more in this subject as \n",
    "# their average grades on the subject are higher than on other subjects."
   ]
  },
  {
   "cell_type": "code",
   "execution_count": 8,
   "id": "11303f18",
   "metadata": {},
   "outputs": [
    {
     "data": {
      "text/plain": [
       "Math       15\n",
       "Physics    15\n",
       "dtype: int64"
      ]
     },
     "execution_count": 8,
     "metadata": {},
     "output_type": "execute_result"
    }
   ],
   "source": [
    "# 2. How many students are below 87 in both Math and Physics?\n",
    "\n",
    "# There are 15 students who got a grade of less than 87 in both Math and Physics.\n",
    "\n",
    "df_grades[[\"Math\", \"Physics\"]][(df_grades[\"Math\"] < 87) & (df_grades[\"Physics\"] < 87)].count()"
   ]
  },
  {
   "cell_type": "code",
   "execution_count": 9,
   "id": "fe869ff1",
   "metadata": {},
   "outputs": [
    {
     "data": {
      "text/html": [
       "<div>\n",
       "<style scoped>\n",
       "    .dataframe tbody tr th:only-of-type {\n",
       "        vertical-align: middle;\n",
       "    }\n",
       "\n",
       "    .dataframe tbody tr th {\n",
       "        vertical-align: top;\n",
       "    }\n",
       "\n",
       "    .dataframe thead th {\n",
       "        text-align: right;\n",
       "    }\n",
       "</style>\n",
       "<table border=\"1\" class=\"dataframe\">\n",
       "  <thead>\n",
       "    <tr style=\"text-align: right;\">\n",
       "      <th></th>\n",
       "      <th>Physics</th>\n",
       "      <th>Math</th>\n",
       "      <th>English</th>\n",
       "      <th>Literature</th>\n",
       "    </tr>\n",
       "  </thead>\n",
       "  <tbody>\n",
       "    <tr>\n",
       "      <th>31</th>\n",
       "      <td>93.0</td>\n",
       "      <td>91.0</td>\n",
       "      <td>80.0</td>\n",
       "      <td>81.0</td>\n",
       "    </tr>\n",
       "  </tbody>\n",
       "</table>\n",
       "</div>"
      ],
      "text/plain": [
       "    Physics  Math  English  Literature\n",
       "31     93.0  91.0     80.0        81.0"
      ]
     },
     "execution_count": 9,
     "metadata": {},
     "output_type": "execute_result"
    }
   ],
   "source": [
    "# 3. What is/are the grade/s of the student/s in math who got the highest grade/s in Physics?\n",
    "\n",
    "# The student who got the highest grade in Physics is student number 31. He/She received a score of 93 on the subject \n",
    "# and a grade of 91 in Math.\n",
    "\n",
    "df_grades[df_grades[\"Physics\"] == df_grades[\"Physics\"].max()]"
   ]
  },
  {
   "cell_type": "code",
   "execution_count": 10,
   "id": "becadc4d",
   "metadata": {},
   "outputs": [
    {
     "data": {
      "text/html": [
       "<div>\n",
       "<style scoped>\n",
       "    .dataframe tbody tr th:only-of-type {\n",
       "        vertical-align: middle;\n",
       "    }\n",
       "\n",
       "    .dataframe tbody tr th {\n",
       "        vertical-align: top;\n",
       "    }\n",
       "\n",
       "    .dataframe thead th {\n",
       "        text-align: right;\n",
       "    }\n",
       "</style>\n",
       "<table border=\"1\" class=\"dataframe\">\n",
       "  <thead>\n",
       "    <tr style=\"text-align: right;\">\n",
       "      <th></th>\n",
       "      <th>Physics</th>\n",
       "      <th>Math</th>\n",
       "      <th>English</th>\n",
       "      <th>Literature</th>\n",
       "    </tr>\n",
       "  </thead>\n",
       "  <tbody>\n",
       "    <tr>\n",
       "      <th>10</th>\n",
       "      <td>90.0</td>\n",
       "      <td>92.0</td>\n",
       "      <td>80.0</td>\n",
       "      <td>83.0</td>\n",
       "    </tr>\n",
       "  </tbody>\n",
       "</table>\n",
       "</div>"
      ],
      "text/plain": [
       "    Physics  Math  English  Literature\n",
       "10     90.0  92.0     80.0        83.0"
      ]
     },
     "execution_count": 10,
     "metadata": {},
     "output_type": "execute_result"
    }
   ],
   "source": [
    "# If we compare student number 31's grade in Math to the highest received grade in the subject, his/her grade is \n",
    "# only a point below the highest. This implies that he/she excels in subjects requiring numerical computation \n",
    "# and analysis since his/her grade in Physics and Math are among the highest.\n",
    "\n",
    "df_grades[df_grades[\"Math\"] == df_grades[\"Math\"].max()]"
   ]
  },
  {
   "cell_type": "code",
   "execution_count": 11,
   "id": "7f564b4b",
   "metadata": {},
   "outputs": [
    {
     "data": {
      "text/html": [
       "<div>\n",
       "<style scoped>\n",
       "    .dataframe tbody tr th:only-of-type {\n",
       "        vertical-align: middle;\n",
       "    }\n",
       "\n",
       "    .dataframe tbody tr th {\n",
       "        vertical-align: top;\n",
       "    }\n",
       "\n",
       "    .dataframe thead th {\n",
       "        text-align: right;\n",
       "    }\n",
       "</style>\n",
       "<table border=\"1\" class=\"dataframe\">\n",
       "  <thead>\n",
       "    <tr style=\"text-align: right;\">\n",
       "      <th></th>\n",
       "      <th>Physics</th>\n",
       "      <th>Math</th>\n",
       "      <th>English</th>\n",
       "      <th>Literature</th>\n",
       "    </tr>\n",
       "  </thead>\n",
       "  <tbody>\n",
       "    <tr>\n",
       "      <th>30</th>\n",
       "      <td>92.0</td>\n",
       "      <td>91.0</td>\n",
       "      <td>81.0</td>\n",
       "      <td>83.0</td>\n",
       "    </tr>\n",
       "    <tr>\n",
       "      <th>31</th>\n",
       "      <td>93.0</td>\n",
       "      <td>91.0</td>\n",
       "      <td>80.0</td>\n",
       "      <td>81.0</td>\n",
       "    </tr>\n",
       "  </tbody>\n",
       "</table>\n",
       "</div>"
      ],
      "text/plain": [
       "    Physics  Math  English  Literature\n",
       "30     92.0  91.0     81.0        83.0\n",
       "31     93.0  91.0     80.0        81.0"
      ]
     },
     "execution_count": 11,
     "metadata": {},
     "output_type": "execute_result"
    }
   ],
   "source": [
    "df_grades[df_grades[\"Math\"] == 91]"
   ]
  },
  {
   "cell_type": "code",
   "execution_count": 12,
   "id": "622c1f01",
   "metadata": {},
   "outputs": [
    {
     "data": {
      "text/plain": [
       "79.0"
      ]
     },
     "execution_count": 12,
     "metadata": {},
     "output_type": "execute_result"
    }
   ],
   "source": [
    "# Regarding his/her grade in English and Literature, student number 31 received a low grade which is only one point higher\n",
    "# than the lowest grades of each subject. \n",
    "\n",
    "df_grades[\"English\"].min()"
   ]
  },
  {
   "cell_type": "code",
   "execution_count": 13,
   "id": "9117054e",
   "metadata": {},
   "outputs": [
    {
     "data": {
      "text/plain": [
       "80.0"
      ]
     },
     "execution_count": 13,
     "metadata": {},
     "output_type": "execute_result"
    }
   ],
   "source": [
    "df_grades[\"Literature\"].min()"
   ]
  },
  {
   "cell_type": "code",
   "execution_count": 14,
   "id": "93e6a853",
   "metadata": {},
   "outputs": [
    {
     "data": {
      "text/html": [
       "<div>\n",
       "<style scoped>\n",
       "    .dataframe tbody tr th:only-of-type {\n",
       "        vertical-align: middle;\n",
       "    }\n",
       "\n",
       "    .dataframe tbody tr th {\n",
       "        vertical-align: top;\n",
       "    }\n",
       "\n",
       "    .dataframe thead th {\n",
       "        text-align: right;\n",
       "    }\n",
       "</style>\n",
       "<table border=\"1\" class=\"dataframe\">\n",
       "  <thead>\n",
       "    <tr style=\"text-align: right;\">\n",
       "      <th></th>\n",
       "      <th>Physics</th>\n",
       "      <th>Math</th>\n",
       "      <th>English</th>\n",
       "      <th>Literature</th>\n",
       "    </tr>\n",
       "  </thead>\n",
       "  <tbody>\n",
       "    <tr>\n",
       "      <th>21</th>\n",
       "      <td>80.0</td>\n",
       "      <td>78.0</td>\n",
       "      <td>93.0</td>\n",
       "      <td>92.0</td>\n",
       "    </tr>\n",
       "  </tbody>\n",
       "</table>\n",
       "</div>"
      ],
      "text/plain": [
       "    Physics  Math  English  Literature\n",
       "21     80.0  78.0     93.0        92.0"
      ]
     },
     "execution_count": 14,
     "metadata": {},
     "output_type": "execute_result"
    }
   ],
   "source": [
    "# 4. What is/are the grade/s of the student/s in English who got the lowest grade/s in Math?\n",
    "\n",
    "# Student number 21 received the lowest grade in Math which is 78 and the grade of 93 for English.\n",
    "\n",
    "df_grades[df_grades[\"Math\"] == df_grades[\"Math\"].min()]"
   ]
  },
  {
   "cell_type": "code",
   "execution_count": 15,
   "id": "ee90b462",
   "metadata": {},
   "outputs": [
    {
     "data": {
      "text/html": [
       "<div>\n",
       "<style scoped>\n",
       "    .dataframe tbody tr th:only-of-type {\n",
       "        vertical-align: middle;\n",
       "    }\n",
       "\n",
       "    .dataframe tbody tr th {\n",
       "        vertical-align: top;\n",
       "    }\n",
       "\n",
       "    .dataframe thead th {\n",
       "        text-align: right;\n",
       "    }\n",
       "</style>\n",
       "<table border=\"1\" class=\"dataframe\">\n",
       "  <thead>\n",
       "    <tr style=\"text-align: right;\">\n",
       "      <th></th>\n",
       "      <th>Physics</th>\n",
       "      <th>Math</th>\n",
       "      <th>English</th>\n",
       "      <th>Literature</th>\n",
       "    </tr>\n",
       "  </thead>\n",
       "  <tbody>\n",
       "    <tr>\n",
       "      <th>21</th>\n",
       "      <td>80.0</td>\n",
       "      <td>78.0</td>\n",
       "      <td>93.0</td>\n",
       "      <td>92.0</td>\n",
       "    </tr>\n",
       "  </tbody>\n",
       "</table>\n",
       "</div>"
      ],
      "text/plain": [
       "    Physics  Math  English  Literature\n",
       "21     80.0  78.0     93.0        92.0"
      ]
     },
     "execution_count": 15,
     "metadata": {},
     "output_type": "execute_result"
    }
   ],
   "source": [
    "# If we look at the highest grade a student received in English, we will see that student number 21 received the highest \n",
    "# grade which is 93. Based on this data, student number 21 excels more in subjects that tackles linguistics and languages \n",
    "# rather than subjects that involve math and sciences.\n",
    "\n",
    "df_grades[df_grades[\"English\"] == df_grades[\"English\"].max()]"
   ]
  },
  {
   "cell_type": "code",
   "execution_count": 16,
   "id": "0cf7eff4",
   "metadata": {},
   "outputs": [
    {
     "data": {
      "text/html": [
       "<div>\n",
       "<style scoped>\n",
       "    .dataframe tbody tr th:only-of-type {\n",
       "        vertical-align: middle;\n",
       "    }\n",
       "\n",
       "    .dataframe tbody tr th {\n",
       "        vertical-align: top;\n",
       "    }\n",
       "\n",
       "    .dataframe thead th {\n",
       "        text-align: right;\n",
       "    }\n",
       "</style>\n",
       "<table border=\"1\" class=\"dataframe\">\n",
       "  <thead>\n",
       "    <tr style=\"text-align: right;\">\n",
       "      <th></th>\n",
       "      <th>Physics</th>\n",
       "      <th>Math</th>\n",
       "      <th>English</th>\n",
       "      <th>Literature</th>\n",
       "    </tr>\n",
       "  </thead>\n",
       "  <tbody>\n",
       "    <tr>\n",
       "      <th>0</th>\n",
       "      <td>80.0</td>\n",
       "      <td>83.0</td>\n",
       "      <td>90.0</td>\n",
       "      <td>91.0</td>\n",
       "    </tr>\n",
       "    <tr>\n",
       "      <th>3</th>\n",
       "      <td>80.0</td>\n",
       "      <td>82.0</td>\n",
       "      <td>91.0</td>\n",
       "      <td>89.0</td>\n",
       "    </tr>\n",
       "    <tr>\n",
       "      <th>21</th>\n",
       "      <td>80.0</td>\n",
       "      <td>78.0</td>\n",
       "      <td>93.0</td>\n",
       "      <td>92.0</td>\n",
       "    </tr>\n",
       "  </tbody>\n",
       "</table>\n",
       "</div>"
      ],
      "text/plain": [
       "    Physics  Math  English  Literature\n",
       "0      80.0  83.0     90.0        91.0\n",
       "3      80.0  82.0     91.0        89.0\n",
       "21     80.0  78.0     93.0        92.0"
      ]
     },
     "execution_count": 16,
     "metadata": {},
     "output_type": "execute_result"
    }
   ],
   "source": [
    "# To back up that claim, we will check the lowest grade in Physics and the highest grade in Literature. \n",
    "# From the analysis below, student 21 also received the lowest grade in Physics and the highest grade in Literature.\n",
    "\n",
    "df_grades[df_grades[\"Physics\"] == df_grades[\"Physics\"].min()]"
   ]
  },
  {
   "cell_type": "code",
   "execution_count": 17,
   "id": "e743d391",
   "metadata": {},
   "outputs": [
    {
     "data": {
      "text/html": [
       "<div>\n",
       "<style scoped>\n",
       "    .dataframe tbody tr th:only-of-type {\n",
       "        vertical-align: middle;\n",
       "    }\n",
       "\n",
       "    .dataframe tbody tr th {\n",
       "        vertical-align: top;\n",
       "    }\n",
       "\n",
       "    .dataframe thead th {\n",
       "        text-align: right;\n",
       "    }\n",
       "</style>\n",
       "<table border=\"1\" class=\"dataframe\">\n",
       "  <thead>\n",
       "    <tr style=\"text-align: right;\">\n",
       "      <th></th>\n",
       "      <th>Physics</th>\n",
       "      <th>Math</th>\n",
       "      <th>English</th>\n",
       "      <th>Literature</th>\n",
       "    </tr>\n",
       "  </thead>\n",
       "  <tbody>\n",
       "    <tr>\n",
       "      <th>21</th>\n",
       "      <td>80.0</td>\n",
       "      <td>78.0</td>\n",
       "      <td>93.0</td>\n",
       "      <td>92.0</td>\n",
       "    </tr>\n",
       "  </tbody>\n",
       "</table>\n",
       "</div>"
      ],
      "text/plain": [
       "    Physics  Math  English  Literature\n",
       "21     80.0  78.0     93.0        92.0"
      ]
     },
     "execution_count": 17,
     "metadata": {},
     "output_type": "execute_result"
    }
   ],
   "source": [
    "df_grades[df_grades[\"Literature\"] == df_grades[\"Literature\"].max()]"
   ]
  },
  {
   "cell_type": "code",
   "execution_count": 18,
   "id": "8540fa08",
   "metadata": {},
   "outputs": [
    {
     "data": {
      "image/png": "[encoded data removed]",
      "text/plain": [
       "<Figure size 432x288 with 1 Axes>"
      ]
     },
     "metadata": {
      "needs_background": "light"
     },
     "output_type": "display_data"
    }
   ],
   "source": [
    "# 5. How can you describe the relationship between Math and English?\n",
    "\n",
    "# To demonstrate the relationship between the Math and English subjects, we used a scatter plot to represent the \n",
    "# students as data points on a Cartesian plane where the y-axis reflects the English grades and the x-axis reflects \n",
    "# the Math grades. Based the plotted graph, there is a negative correlation or inverse relationship between Math and  \n",
    "# English. This is more evident once we draw a trend line on the graph that descends left to right.\n",
    "\n",
    "# The relationship between Math and English suggests that students with higher grades in Math tend to have lower grades in \n",
    "# English and vice versa. This indicates that students who are proficient in Math experience difficulty while learning \n",
    "# English and students who are proficient in English struggle to learn Math. With this data, the teachers can determine\n",
    "# and focus on improving the students' weakness.\n",
    "\n",
    "\n",
    "plt.scatter(df_grades[\"Math\"], df_grades[\"English\"])\n",
    "plt.title(\"Relationship Between Math and English\")\n",
    "plt.xlabel(\"Math\")\n",
    "plt.ylabel(\"English\")\n",
    "plt.show()"
   ]
  },
  {
   "cell_type": "code",
   "execution_count": 19,
   "id": "103021a5",
   "metadata": {},
   "outputs": [
    {
     "data": {
      "text/plain": [
       "<seaborn.axisgrid.PairGrid at 0x25fd8367b50>"
      ]
     },
     "execution_count": 19,
     "metadata": {},
     "output_type": "execute_result"
    },
    {
     "data": {
      "image/png": "[encoded data removed]",
      "text/plain": [
       "<Figure size 720x720 with 20 Axes>"
      ]
     },
     "metadata": {
      "needs_background": "light"
     },
     "output_type": "display_data"
    }
   ],
   "source": [
    "# Conclusion:\n",
    "\n",
    "# We can also examine the relationships between each field to reach a more convincing conclusion. In the graph generated \n",
    "# below using the seaborn package, we will see that the relationship between Physics and Math and the relationship between \n",
    "# English and Literature show a positive correlation. In contrast, the relationship between Physics and English or Physics\n",
    "# and Literature, and Math and English or Math and Literature shows a negative correlation. This implies that students who\n",
    "# receive high grades in English would possibly also receive high grades in Literature but lower grades in Physics and \n",
    "# Math. This is evident in the analysis conducted for student number 21. This student showed excellence in the English \n",
    "# and Literature subjects as he/she received the highest grades for the two subjects. However, the same student also\n",
    "# received the lowest grades for Physics and Math. This is an extreme example of a student who excelled in one field but \n",
    "# struggled in another. Student number 31, on the other hand, showed proficiency in Physics and Math while lacking in \n",
    "# English and Literature. He/She is the opposite of student number 21 as they excel in the opposite fields of study.\n",
    "\n",
    "# Overall, analyzing a student’s grade can help teachers predict a student’s weaknesses based on their strengths.\n",
    "# This may not be applicable to all students, but it can be a useful starting point for developing lesson plans that \n",
    "# help students improve on the subjects they are struggling with.\n",
    "\n",
    "sns.pairplot(df_grades)"
   ]
  }
 ],
 "metadata": {
  "interpreter": {
   "hash": "58837b1b657ea91009af8409fc244ae3b5ccf93ea980d6fb6b80adc5f697f4cc"
  },
  "kernelspec": {
   "display_name": "Python 3.10.2 64-bit",
   "language": "python",
   "name": "python3"
  },
  "language_info": {
   "codemirror_mode": {
    "name": "ipython",
    "version": 3
   },
   "file_extension": ".py",
   "mimetype": "text/x-python",
   "name": "python",
   "nbconvert_exporter": "python",
   "pygments_lexer": "ipython3",
   "version": "3.10.2"
  }
 },
 "nbformat": 4,
 "nbformat_minor": 5
}
